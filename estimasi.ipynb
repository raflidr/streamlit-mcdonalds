{
 "cells": [
  {
   "attachments": {},
   "cell_type": "markdown",
   "metadata": {},
   "source": [
    "## Library yang akan digunakan"
   ]
  },
  {
   "cell_type": "code",
   "execution_count": 1,
   "metadata": {},
   "outputs": [],
   "source": [
    "import pandas as pd\n",
    "import numpy as np\n",
    "import matplotlib.pyplot as plt\n",
    "import seaborn as sns"
   ]
  },
  {
   "attachments": {},
   "cell_type": "markdown",
   "metadata": {},
   "source": [
    "## Memanggil dataset"
   ]
  },
  {
   "cell_type": "code",
   "execution_count": 2,
   "metadata": {},
   "outputs": [],
   "source": [
    "df = pd.read_csv('Mcdonalds.csv')"
   ]
  },
  {
   "attachments": {},
   "cell_type": "markdown",
   "metadata": {},
   "source": [
    "## 1. BUSINESS UNDERSTANDING\n",
    "\n",
    "A. Pengertian\n",
    "\n",
    "Pada tahap ini membutuhkan pengetahuan dari objek bisnis, bagaimana membangun atau mendapatkan data, dan bagaimana untuk mencocokan tujuan pemodelan untuk tujuan bisnis sehingga model terbaik dapat dibangun. Kegiatan yang dilakukan antara lain: menentukan tujuan dan persyaratan dengan jelas secara keseluruhan, menerjemahkan tujuan tersebut serta menentukan pembatasan dalam perumusan masalah data mining, dan selanjutnya mempersiapkan strategi awal untuk mencapai tujuan tersebut.\n",
    "\n",
    "B. Problem \n",
    "\n",
    "McDonald di India memiliki berbagai macam menu dengan size yang berbeda-beda. Apakah ukuran makanan ini mempengaruhi asupan gizi yang diantaranya adalah energi, kolesterol, protein dan gula ini yang akan di serap oleh tubuh.\n",
    "Maka daripada itu, McDonalds melakukan penelitian dan riset dengan pakar kesehatan untuk mencantumkan komposisi dari makanan yang mereka buat supaya pelanggan mengetahui asupan gizi yang akan masuk ke dalam tubuhnya.\n",
    "\n",
    "C. Tujuan\n",
    "\n",
    "Dataset yang di ambil dari kaggle ini (https://www.kaggle.com/datasets/deepcontractor/mcdonalds-india-menu-nutrition-facts) bertujuan untuk menganalisis dan mengetahui estimasi jumlah energi dari ukuran menu McDonalds, agar pelanggan dapat lebih memahami kandungan nutrisi dan dapat membuat keputusan untuk makanan yang akan pelanggan beli, serta membantu mengelola kesehatan dengan lebih baik."
   ]
  },
  {
   "attachments": {},
   "cell_type": "markdown",
   "metadata": {},
   "source": [
    "## 2. DATA UNDERSTANDING\n",
    "\n",
    "A. Pengertian \n",
    "\n",
    "Tahap ini memberikan fondasi analitik untuk sebuah penelitian dengan membuat ringkasaan (summary) dan mengidentifikasi potensi masalah dalam data. Tahap ini juga harus dilakukan secara cermat dan tidak terburu-buru, seperti pada visualisasi data, yang terkadang insight-nya sangat sulit didapat dika dihubungkan dengan summary data nya. Jika ada masalah pada tahap ini yang belum terjawab, maka akan menggangu pada tahap modeling.\n",
    "\n",
    "Dari pengumpulan data yang telah diambil mengenai Menu nutrisi McDonalds India, terdapat 13 kolom yang berisi 3 kolom objek, 10 kolom float. Jika menggunakan regresi linear, maka hanya kolom yang berisi float saja yang bisa diolah. Berikut atribut-atribut nya :\n",
    "\n",
    "0. Menu Categeory (Golongan)                 = objek\n",
    "1. Menu Items (Nama-nama menu)               = objek\n",
    "2. Serve_Size                                = objek\n",
    "3. Energy (Kalori)                         = float\n",
    "4. Protein (Protein)                         = float\n",
    "5. Total_fat (Total Lemak)                = float\n",
    "6. Sat_fat (Lemak Jenuh)                    = float            \n",
    "7. Trans_Fat (Lemak trans)                   = float\n",
    "8. Cholesterol (Kolestrol)                    = float\n",
    "9. Total_Carbohydrate (Total karbohidrat)      = float      \n",
    "10. Dietary (Serat Makanan)             = float\n",
    "11. Total_Sugars  (Gula)                  = float          \n",
    "12. Sodium (Sodium)                        = float    "
   ]
  },
  {
   "attachments": {},
   "cell_type": "markdown",
   "metadata": {},
   "source": [
    "## Deskripsi dataset"
   ]
  },
  {
   "cell_type": "code",
   "execution_count": 3,
   "metadata": {},
   "outputs": [
    {
     "data": {
      "text/html": [
       "<div>\n",
       "<style scoped>\n",
       "    .dataframe tbody tr th:only-of-type {\n",
       "        vertical-align: middle;\n",
       "    }\n",
       "\n",
       "    .dataframe tbody tr th {\n",
       "        vertical-align: top;\n",
       "    }\n",
       "\n",
       "    .dataframe thead th {\n",
       "        text-align: right;\n",
       "    }\n",
       "</style>\n",
       "<table border=\"1\" class=\"dataframe\">\n",
       "  <thead>\n",
       "    <tr style=\"text-align: right;\">\n",
       "      <th></th>\n",
       "      <th>Menu Category</th>\n",
       "      <th>Menu Items</th>\n",
       "      <th>Serve_Size</th>\n",
       "      <th>Energy</th>\n",
       "      <th>Protein</th>\n",
       "      <th>Total_fat</th>\n",
       "      <th>Sat_Fat</th>\n",
       "      <th>Trans_fat</th>\n",
       "      <th>Cholesterols</th>\n",
       "      <th>Total_carbohydrate</th>\n",
       "      <th>Total_Sugars</th>\n",
       "      <th>Added_Sugars</th>\n",
       "      <th>Sodium</th>\n",
       "    </tr>\n",
       "  </thead>\n",
       "  <tbody>\n",
       "    <tr>\n",
       "      <th>0</th>\n",
       "      <td>Regular Menu</td>\n",
       "      <td>McVeggie™ Burger</td>\n",
       "      <td>168 g</td>\n",
       "      <td>402.05</td>\n",
       "      <td>10.24</td>\n",
       "      <td>13.83</td>\n",
       "      <td>5.34</td>\n",
       "      <td>0.16</td>\n",
       "      <td>2.49</td>\n",
       "      <td>56.54</td>\n",
       "      <td>7.90</td>\n",
       "      <td>4.49</td>\n",
       "      <td>706.13</td>\n",
       "    </tr>\n",
       "    <tr>\n",
       "      <th>1</th>\n",
       "      <td>Regular Menu</td>\n",
       "      <td>McAloo Tikki Burger®</td>\n",
       "      <td>146 g</td>\n",
       "      <td>339.52</td>\n",
       "      <td>8.50</td>\n",
       "      <td>11.31</td>\n",
       "      <td>4.27</td>\n",
       "      <td>0.20</td>\n",
       "      <td>1.47</td>\n",
       "      <td>50.27</td>\n",
       "      <td>7.05</td>\n",
       "      <td>4.07</td>\n",
       "      <td>545.34</td>\n",
       "    </tr>\n",
       "    <tr>\n",
       "      <th>2</th>\n",
       "      <td>Regular Menu</td>\n",
       "      <td>McSpicy™ Paneer Burger</td>\n",
       "      <td>199 g</td>\n",
       "      <td>652.76</td>\n",
       "      <td>20.29</td>\n",
       "      <td>39.45</td>\n",
       "      <td>17.12</td>\n",
       "      <td>0.18</td>\n",
       "      <td>21.85</td>\n",
       "      <td>52.33</td>\n",
       "      <td>8.35</td>\n",
       "      <td>5.27</td>\n",
       "      <td>1074.58</td>\n",
       "    </tr>\n",
       "    <tr>\n",
       "      <th>3</th>\n",
       "      <td>Regular Menu</td>\n",
       "      <td>Spicy Paneer Wrap</td>\n",
       "      <td>250 g</td>\n",
       "      <td>674.68</td>\n",
       "      <td>20.96</td>\n",
       "      <td>39.10</td>\n",
       "      <td>19.73</td>\n",
       "      <td>0.26</td>\n",
       "      <td>40.93</td>\n",
       "      <td>59.27</td>\n",
       "      <td>3.50</td>\n",
       "      <td>1.08</td>\n",
       "      <td>1087.46</td>\n",
       "    </tr>\n",
       "    <tr>\n",
       "      <th>4</th>\n",
       "      <td>Regular Menu</td>\n",
       "      <td>American Veg Burger</td>\n",
       "      <td>177 g</td>\n",
       "      <td>512.17</td>\n",
       "      <td>15.30</td>\n",
       "      <td>23.45</td>\n",
       "      <td>10.51</td>\n",
       "      <td>0.17</td>\n",
       "      <td>25.24</td>\n",
       "      <td>56.96</td>\n",
       "      <td>7.85</td>\n",
       "      <td>4.76</td>\n",
       "      <td>1051.24</td>\n",
       "    </tr>\n",
       "  </tbody>\n",
       "</table>\n",
       "</div>"
      ],
      "text/plain": [
       "  Menu Category              Menu Items Serve_Size  Energy  Protein  \\\n",
       "0  Regular Menu        McVeggie™ Burger      168 g  402.05    10.24   \n",
       "1  Regular Menu    McAloo Tikki Burger®      146 g  339.52     8.50   \n",
       "2  Regular Menu  McSpicy™ Paneer Burger      199 g  652.76    20.29   \n",
       "3  Regular Menu       Spicy Paneer Wrap      250 g  674.68    20.96   \n",
       "4  Regular Menu     American Veg Burger      177 g  512.17    15.30   \n",
       "\n",
       "   Total_fat  Sat_Fat  Trans_fat  Cholesterols  Total_carbohydrate  \\\n",
       "0      13.83     5.34       0.16          2.49               56.54   \n",
       "1      11.31     4.27       0.20          1.47               50.27   \n",
       "2      39.45    17.12       0.18         21.85               52.33   \n",
       "3      39.10    19.73       0.26         40.93               59.27   \n",
       "4      23.45    10.51       0.17         25.24               56.96   \n",
       "\n",
       "   Total_Sugars  Added_Sugars   Sodium  \n",
       "0          7.90          4.49   706.13  \n",
       "1          7.05          4.07   545.34  \n",
       "2          8.35          5.27  1074.58  \n",
       "3          3.50          1.08  1087.46  \n",
       "4          7.85          4.76  1051.24  "
      ]
     },
     "execution_count": 3,
     "metadata": {},
     "output_type": "execute_result"
    }
   ],
   "source": [
    "df.head()"
   ]
  },
  {
   "attachments": {},
   "cell_type": "markdown",
   "metadata": {},
   "source": [
    "# DATA PREPARATION"
   ]
  },
  {
   "cell_type": "code",
   "execution_count": 4,
   "metadata": {},
   "outputs": [
    {
     "name": "stdout",
     "output_type": "stream",
     "text": [
      "<class 'pandas.core.frame.DataFrame'>\n",
      "RangeIndex: 141 entries, 0 to 140\n",
      "Data columns (total 13 columns):\n",
      " #   Column              Non-Null Count  Dtype  \n",
      "---  ------              --------------  -----  \n",
      " 0   Menu Category       141 non-null    object \n",
      " 1   Menu Items          141 non-null    object \n",
      " 2   Serve_Size          141 non-null    object \n",
      " 3   Energy              141 non-null    float64\n",
      " 4   Protein             141 non-null    float64\n",
      " 5   Total_fat           141 non-null    float64\n",
      " 6   Sat_Fat             141 non-null    float64\n",
      " 7   Trans_fat           141 non-null    float64\n",
      " 8   Cholesterols        141 non-null    float64\n",
      " 9   Total_carbohydrate  141 non-null    float64\n",
      " 10  Total_Sugars        141 non-null    float64\n",
      " 11  Added_Sugars        141 non-null    float64\n",
      " 12  Sodium              140 non-null    float64\n",
      "dtypes: float64(10), object(3)\n",
      "memory usage: 14.4+ KB\n"
     ]
    }
   ],
   "source": [
    "df.info()"
   ]
  },
  {
   "attachments": {},
   "cell_type": "markdown",
   "metadata": {},
   "source": [
    "## Mencari heatmap"
   ]
  },
  {
   "cell_type": "code",
   "execution_count": 5,
   "metadata": {},
   "outputs": [
    {
     "data": {
      "text/plain": [
       "<AxesSubplot:>"
      ]
     },
     "execution_count": 5,
     "metadata": {},
     "output_type": "execute_result"
    },
    {
     "data": {
      "image/png": "[encoded data removed]",
      "text/plain": [
       "<Figure size 432x288 with 2 Axes>"
      ]
     },
     "metadata": {
      "needs_background": "light"
     },
     "output_type": "display_data"
    }
   ],
   "source": [
    "sns.heatmap(df.isnull())"
   ]
  },
  {
   "attachments": {},
   "cell_type": "markdown",
   "metadata": {},
   "source": [
    "## Melihat Nilai Data"
   ]
  },
  {
   "cell_type": "code",
   "execution_count": 6,
   "metadata": {},
   "outputs": [
    {
     "data": {
      "text/html": [
       "<div>\n",
       "<style scoped>\n",
       "    .dataframe tbody tr th:only-of-type {\n",
       "        vertical-align: middle;\n",
       "    }\n",
       "\n",
       "    .dataframe tbody tr th {\n",
       "        vertical-align: top;\n",
       "    }\n",
       "\n",
       "    .dataframe thead th {\n",
       "        text-align: right;\n",
       "    }\n",
       "</style>\n",
       "<table border=\"1\" class=\"dataframe\">\n",
       "  <thead>\n",
       "    <tr style=\"text-align: right;\">\n",
       "      <th></th>\n",
       "      <th>Energy</th>\n",
       "      <th>Protein</th>\n",
       "      <th>Total_fat</th>\n",
       "      <th>Sat_Fat</th>\n",
       "      <th>Trans_fat</th>\n",
       "      <th>Cholesterols</th>\n",
       "      <th>Total_carbohydrate</th>\n",
       "      <th>Total_Sugars</th>\n",
       "      <th>Added_Sugars</th>\n",
       "      <th>Sodium</th>\n",
       "    </tr>\n",
       "  </thead>\n",
       "  <tbody>\n",
       "    <tr>\n",
       "      <th>count</th>\n",
       "      <td>141.000000</td>\n",
       "      <td>141.000000</td>\n",
       "      <td>141.000000</td>\n",
       "      <td>141.000000</td>\n",
       "      <td>141.000000</td>\n",
       "      <td>141.000000</td>\n",
       "      <td>141.000000</td>\n",
       "      <td>141.000000</td>\n",
       "      <td>141.000000</td>\n",
       "      <td>140.000000</td>\n",
       "    </tr>\n",
       "    <tr>\n",
       "      <th>mean</th>\n",
       "      <td>244.635461</td>\n",
       "      <td>7.493546</td>\n",
       "      <td>9.991702</td>\n",
       "      <td>4.997589</td>\n",
       "      <td>0.687163</td>\n",
       "      <td>26.350071</td>\n",
       "      <td>31.190284</td>\n",
       "      <td>15.464894</td>\n",
       "      <td>10.336950</td>\n",
       "      <td>362.064143</td>\n",
       "    </tr>\n",
       "    <tr>\n",
       "      <th>std</th>\n",
       "      <td>185.554837</td>\n",
       "      <td>8.336863</td>\n",
       "      <td>10.339511</td>\n",
       "      <td>4.900451</td>\n",
       "      <td>6.326136</td>\n",
       "      <td>50.334200</td>\n",
       "      <td>20.602044</td>\n",
       "      <td>15.690202</td>\n",
       "      <td>14.283388</td>\n",
       "      <td>473.160490</td>\n",
       "    </tr>\n",
       "    <tr>\n",
       "      <th>min</th>\n",
       "      <td>0.000000</td>\n",
       "      <td>0.000000</td>\n",
       "      <td>0.000000</td>\n",
       "      <td>0.000000</td>\n",
       "      <td>0.000000</td>\n",
       "      <td>0.000000</td>\n",
       "      <td>0.000000</td>\n",
       "      <td>0.000000</td>\n",
       "      <td>0.000000</td>\n",
       "      <td>0.000000</td>\n",
       "    </tr>\n",
       "    <tr>\n",
       "      <th>25%</th>\n",
       "      <td>116.360000</td>\n",
       "      <td>0.650000</td>\n",
       "      <td>0.460000</td>\n",
       "      <td>0.280000</td>\n",
       "      <td>0.060000</td>\n",
       "      <td>1.510000</td>\n",
       "      <td>15.740000</td>\n",
       "      <td>2.330000</td>\n",
       "      <td>0.000000</td>\n",
       "      <td>43.895000</td>\n",
       "    </tr>\n",
       "    <tr>\n",
       "      <th>50%</th>\n",
       "      <td>219.360000</td>\n",
       "      <td>4.790000</td>\n",
       "      <td>7.770000</td>\n",
       "      <td>4.270000</td>\n",
       "      <td>0.150000</td>\n",
       "      <td>8.390000</td>\n",
       "      <td>30.820000</td>\n",
       "      <td>9.160000</td>\n",
       "      <td>3.640000</td>\n",
       "      <td>152.025000</td>\n",
       "    </tr>\n",
       "    <tr>\n",
       "      <th>75%</th>\n",
       "      <td>339.520000</td>\n",
       "      <td>10.880000</td>\n",
       "      <td>14.160000</td>\n",
       "      <td>7.280000</td>\n",
       "      <td>0.220000</td>\n",
       "      <td>31.110000</td>\n",
       "      <td>46.000000</td>\n",
       "      <td>26.950000</td>\n",
       "      <td>19.230000</td>\n",
       "      <td>534.240000</td>\n",
       "    </tr>\n",
       "    <tr>\n",
       "      <th>max</th>\n",
       "      <td>834.360000</td>\n",
       "      <td>39.470000</td>\n",
       "      <td>45.180000</td>\n",
       "      <td>20.460000</td>\n",
       "      <td>75.260000</td>\n",
       "      <td>302.610000</td>\n",
       "      <td>93.840000</td>\n",
       "      <td>64.220000</td>\n",
       "      <td>64.220000</td>\n",
       "      <td>2399.490000</td>\n",
       "    </tr>\n",
       "  </tbody>\n",
       "</table>\n",
       "</div>"
      ],
      "text/plain": [
       "           Energy     Protein   Total_fat     Sat_Fat   Trans_fat  \\\n",
       "count  141.000000  141.000000  141.000000  141.000000  141.000000   \n",
       "mean   244.635461    7.493546    9.991702    4.997589    0.687163   \n",
       "std    185.554837    8.336863   10.339511    4.900451    6.326136   \n",
       "min      0.000000    0.000000    0.000000    0.000000    0.000000   \n",
       "25%    116.360000    0.650000    0.460000    0.280000    0.060000   \n",
       "50%    219.360000    4.790000    7.770000    4.270000    0.150000   \n",
       "75%    339.520000   10.880000   14.160000    7.280000    0.220000   \n",
       "max    834.360000   39.470000   45.180000   20.460000   75.260000   \n",
       "\n",
       "       Cholesterols  Total_carbohydrate  Total_Sugars  Added_Sugars  \\\n",
       "count    141.000000          141.000000    141.000000    141.000000   \n",
       "mean      26.350071           31.190284     15.464894     10.336950   \n",
       "std       50.334200           20.602044     15.690202     14.283388   \n",
       "min        0.000000            0.000000      0.000000      0.000000   \n",
       "25%        1.510000           15.740000      2.330000      0.000000   \n",
       "50%        8.390000           30.820000      9.160000      3.640000   \n",
       "75%       31.110000           46.000000     26.950000     19.230000   \n",
       "max      302.610000           93.840000     64.220000     64.220000   \n",
       "\n",
       "            Sodium  \n",
       "count   140.000000  \n",
       "mean    362.064143  \n",
       "std     473.160490  \n",
       "min       0.000000  \n",
       "25%      43.895000  \n",
       "50%     152.025000  \n",
       "75%     534.240000  \n",
       "max    2399.490000  "
      ]
     },
     "execution_count": 6,
     "metadata": {},
     "output_type": "execute_result"
    }
   ],
   "source": [
    "df.describe()"
   ]
  },
  {
   "attachments": {},
   "cell_type": "markdown",
   "metadata": {},
   "source": [
    "## Visualisasi Data"
   ]
  },
  {
   "cell_type": "code",
   "execution_count": 7,
   "metadata": {},
   "outputs": [
    {
     "data": {
      "text/plain": [
       "<AxesSubplot:>"
      ]
     },
     "execution_count": 7,
     "metadata": {},
     "output_type": "execute_result"
    },
    {
     "data": {
      "image/png": "[encoded data removed]",
      "text/plain": [
       "<Figure size 720x432 with 2 Axes>"
      ]
     },
     "metadata": {
      "needs_background": "light"
     },
     "output_type": "display_data"
    }
   ],
   "source": [
    "plt.figure(figsize=(10,6))\n",
    "sns.heatmap(df.corr(), annot=True)"
   ]
  },
  {
   "attachments": {},
   "cell_type": "markdown",
   "metadata": {},
   "source": [
    "## Jumlah Energy Berdasarkan Size Menu"
   ]
  },
  {
   "cell_type": "code",
   "execution_count": 8,
   "metadata": {},
   "outputs": [],
   "source": [
    "brands = df.groupby('Serve_Size').count()[['Protein']].sort_values(by='Protein', ascending=True).reset_index()\n",
    "brands = brands.rename(columns={'Protein':'Energy'})"
   ]
  },
  {
   "cell_type": "code",
   "execution_count": 9,
   "metadata": {},
   "outputs": [
    {
     "data": {
      "text/plain": [
       "(array([  0,   1,   2,   3,   4,   5,   6,   7,   8,   9,  10,  11,  12,\n",
       "         13,  14,  15,  16,  17,  18,  19,  20,  21,  22,  23,  24,  25,\n",
       "         26,  27,  28,  29,  30,  31,  32,  33,  34,  35,  36,  37,  38,\n",
       "         39,  40,  41,  42,  43,  44,  45,  46,  47,  48,  49,  50,  51,\n",
       "         52,  53,  54,  55,  56,  57,  58,  59,  60,  61,  62,  63,  64,\n",
       "         65,  66,  67,  68,  69,  70,  71,  72,  73,  74,  75,  76,  77,\n",
       "         78,  79,  80,  81,  82,  83,  84,  85,  86,  87,  88,  89,  90,\n",
       "         91,  92,  93,  94,  95,  96,  97,  98,  99, 100, 101, 102, 103,\n",
       "        104, 105, 106]),\n",
       " [Text(0, 0, '10 g'),\n",
       "  Text(1, 0, '306 g'),\n",
       "  Text(2, 0, '301 g'),\n",
       "  Text(3, 0, '30 g'),\n",
       "  Text(4, 0, '297.5 ml'),\n",
       "  Text(5, 0, '296.5 ml'),\n",
       "  Text(6, 0, '296 g'),\n",
       "  Text(7, 0, '291.5 ml'),\n",
       "  Text(8, 0, '290 ml'),\n",
       "  Text(9, 0, '307 g'),\n",
       "  Text(10, 0, '280 ml'),\n",
       "  Text(11, 0, '264.5 g'),\n",
       "  Text(12, 0, '26.5 ml'),\n",
       "  Text(13, 0, '257 g'),\n",
       "  Text(14, 0, '93.29 g'),\n",
       "  Text(15, 0, '245 ml'),\n",
       "  Text(16, 0, '242.5 ml'),\n",
       "  Text(17, 0, '240 g'),\n",
       "  Text(18, 0, '228 g'),\n",
       "  Text(19, 0, '276.5 ml'),\n",
       "  Text(20, 0, '307.5 ml'),\n",
       "  Text(21, 0, '311.5 ml'),\n",
       "  Text(22, 0, '317 ml'),\n",
       "  Text(23, 0, '90 g'),\n",
       "  Text(24, 0, '86.79 g'),\n",
       "  Text(25, 0, '81.29 g'),\n",
       "  Text(26, 0, '8 g'),\n",
       "  Text(27, 0, '77 g'),\n",
       "  Text(28, 0, '76.5 ml'),\n",
       "  Text(29, 0, '58 g'),\n",
       "  Text(30, 0, '500 ml'),\n",
       "  Text(31, 0, '5 g'),\n",
       "  Text(32, 0, '455 ml'),\n",
       "  Text(33, 0, '405 ml'),\n",
       "  Text(34, 0, '40 g'),\n",
       "  Text(35, 0, '377 ml'),\n",
       "  Text(36, 0, '375 ml'),\n",
       "  Text(37, 0, '367 ml'),\n",
       "  Text(38, 0, '355 ml'),\n",
       "  Text(39, 0, '334 ml'),\n",
       "  Text(40, 0, '325 g'),\n",
       "  Text(41, 0, '320.5 ml'),\n",
       "  Text(42, 0, '223 ml'),\n",
       "  Text(43, 0, '216 g'),\n",
       "  Text(44, 0, '250 g'),\n",
       "  Text(45, 0, '211 g'),\n",
       "  Text(46, 0, '153 ml'),\n",
       "  Text(47, 0, '147.38 g'),\n",
       "  Text(48, 0, '146 g'),\n",
       "  Text(49, 0, '212.5 g'),\n",
       "  Text(50, 0, '144 g'),\n",
       "  Text(51, 0, '142 g'),\n",
       "  Text(52, 0, '14 g'),\n",
       "  Text(53, 0, '136 g'),\n",
       "  Text(54, 0, '135 g'),\n",
       "  Text(55, 0, '132 g'),\n",
       "  Text(56, 0, '127 ml'),\n",
       "  Text(57, 0, '126.2 g'),\n",
       "  Text(58, 0, '125.79 g'),\n",
       "  Text(59, 0, '123.2 g'),\n",
       "  Text(60, 0, '123 g'),\n",
       "  Text(61, 0, '119 g'),\n",
       "  Text(62, 0, '115 g'),\n",
       "  Text(63, 0, '114 g'),\n",
       "  Text(64, 0, '110.79 g'),\n",
       "  Text(65, 0, '109 g'),\n",
       "  Text(66, 0, '100 g'),\n",
       "  Text(67, 0, '154 g'),\n",
       "  Text(68, 0, '155.08 g'),\n",
       "  Text(69, 0, '145 g'),\n",
       "  Text(70, 0, '156 g'),\n",
       "  Text(71, 0, '207 g'),\n",
       "  Text(72, 0, '205 ml'),\n",
       "  Text(73, 0, '201.5 ml'),\n",
       "  Text(74, 0, '200.08 g'),\n",
       "  Text(75, 0, '200 ml'),\n",
       "  Text(76, 0, '199 g'),\n",
       "  Text(77, 0, '195 g'),\n",
       "  Text(78, 0, '186 g'),\n",
       "  Text(79, 0, '180 ml'),\n",
       "  Text(80, 0, '177 g'),\n",
       "  Text(81, 0, '96 g'),\n",
       "  Text(82, 0, '168 g'),\n",
       "  Text(83, 0, '157 g'),\n",
       "  Text(84, 0, '163 ml'),\n",
       "  Text(85, 0, '173 g'),\n",
       "  Text(86, 0, '165 g'),\n",
       "  Text(87, 0, '91.79 g'),\n",
       "  Text(88, 0, '87 g'),\n",
       "  Text(89, 0, '80 g'),\n",
       "  Text(90, 0, '112 g'),\n",
       "  Text(91, 0, '64 g'),\n",
       "  Text(92, 0, '347.5 ml'),\n",
       "  Text(93, 0, '138 g'),\n",
       "  Text(94, 0, '25 g'),\n",
       "  Text(95, 0, '132.08 g'),\n",
       "  Text(96, 0, '266.5 ml'),\n",
       "  Text(97, 0, '286.79 ml'),\n",
       "  Text(98, 0, '310 ml'),\n",
       "  Text(99, 0, '456 ml'),\n",
       "  Text(100, 0, '279 ml'),\n",
       "  Text(101, 0, '236.5 ml'),\n",
       "  Text(102, 0, '259 ml'),\n",
       "  Text(103, 0, '299 ml'),\n",
       "  Text(104, 0, '394 ml'),\n",
       "  Text(105, 0, '330 ml'),\n",
       "  Text(106, 0, '544 ml')])"
      ]
     },
     "execution_count": 9,
     "metadata": {},
     "output_type": "execute_result"
    },
    {
     "data": {
      "image/png": "[encoded data removed]",
      "text/plain": [
       "<Figure size 1080x504 with 1 Axes>"
      ]
     },
     "metadata": {
      "needs_background": "light"
     },
     "output_type": "display_data"
    }
   ],
   "source": [
    "fig = plt.figure(figsize = (15,7))\n",
    "sns.barplot(x = brands['Serve_Size'], y = brands['Energy'], color = 'red')\n",
    "plt.xticks(rotation = 60)"
   ]
  },
  {
   "attachments": {},
   "cell_type": "markdown",
   "metadata": {},
   "source": [
    "# MODELLING DATA"
   ]
  },
  {
   "attachments": {},
   "cell_type": "markdown",
   "metadata": {},
   "source": [
    "## Seleksi Fitur"
   ]
  },
  {
   "cell_type": "code",
   "execution_count": 10,
   "metadata": {},
   "outputs": [
    {
     "data": {
      "text/plain": [
       "((141, 4), (141,))"
      ]
     },
     "execution_count": 10,
     "metadata": {},
     "output_type": "execute_result"
    }
   ],
   "source": [
    "fitur = ['Cholesterols', 'Total_carbohydrate', 'Total_Sugars', 'Protein']\n",
    "x = df[fitur]\n",
    "y = df['Energy']\n",
    "x.shape, y.shape"
   ]
  },
  {
   "attachments": {},
   "cell_type": "markdown",
   "metadata": {},
   "source": [
    "## Split Data Training & Testing"
   ]
  },
  {
   "cell_type": "code",
   "execution_count": 11,
   "metadata": {},
   "outputs": [
    {
     "data": {
      "text/plain": [
       "(36,)"
      ]
     },
     "execution_count": 11,
     "metadata": {},
     "output_type": "execute_result"
    }
   ],
   "source": [
    "from sklearn.model_selection import train_test_split\n",
    "x_train, X_test, y_train, y_test = train_test_split(x, y, random_state = 70)\n",
    "y_test.shape"
   ]
  },
  {
   "attachments": {},
   "cell_type": "markdown",
   "metadata": {},
   "source": [
    "## membuat regresi linier"
   ]
  },
  {
   "cell_type": "code",
   "execution_count": 12,
   "metadata": {},
   "outputs": [],
   "source": [
    "from sklearn.linear_model import LinearRegression\n",
    "lr = LinearRegression()\n",
    "lr.fit(x_train,y_train)\n",
    "predik = lr.predict(X_test)"
   ]
  },
  {
   "attachments": {},
   "cell_type": "markdown",
   "metadata": {},
   "source": [
    "# EVALUTION DATA"
   ]
  },
  {
   "cell_type": "code",
   "execution_count": 13,
   "metadata": {},
   "outputs": [
    {
     "name": "stdout",
     "output_type": "stream",
     "text": [
      "Akurasi Model Regresi Linier :  0.9640439754565693\n"
     ]
    }
   ],
   "source": [
    "y = lr.score(X_test, y_test)\n",
    "print('Akurasi Model Regresi Linier : ', y)"
   ]
  },
  {
   "attachments": {},
   "cell_type": "markdown",
   "metadata": {},
   "source": [
    "## Membuat inputan regresi linier"
   ]
  },
  {
   "cell_type": "code",
   "execution_count": 14,
   "metadata": {},
   "outputs": [
    {
     "name": "stdout",
     "output_type": "stream",
     "text": [
      "Estimasi Jumlah Energi dalam setiap size menu  :  [506.28582489]\n"
     ]
    },
    {
     "name": "stderr",
     "output_type": "stream",
     "text": [
      "C:\\Users\\USER\\AppData\\Local\\Packages\\PythonSoftwareFoundation.Python.3.7_qbz5n2kfra8p0\\LocalCache\\local-packages\\Python37\\site-packages\\sklearn\\base.py:451: UserWarning: X does not have valid feature names, but LinearRegression was fitted with feature names\n",
      "  \"X does not have valid feature names, but\"\n"
     ]
    }
   ],
   "source": [
    "#Cholesterols (mg) = 25.24 , Total_Carbohydrate (g) = 56.96 , Total_Sugars (g) = 7.85 , Protein (g) = 15.3\n",
    "inputan = np.array([[25.24, 56.96, 7.85, 15.3]])\n",
    "prediksi = lr.predict(inputan)\n",
    "print('Estimasi Jumlah Energi dalam setiap size menu  : ', prediksi)"
   ]
  },
  {
   "attachments": {},
   "cell_type": "markdown",
   "metadata": {},
   "source": [
    "# DEPLOYMENT"
   ]
  },
  {
   "attachments": {},
   "cell_type": "markdown",
   "metadata": {},
   "source": [
    "## Save Model"
   ]
  },
  {
   "cell_type": "code",
   "execution_count": 15,
   "metadata": {},
   "outputs": [],
   "source": [
    "import pickle\n",
    "filename = 'estimasi_mcdonalds.sav'\n",
    "pickle.dump(lr,open(filename,'wb'))"
   ]
  }
 ],
 "metadata": {
  "kernelspec": {
   "display_name": "Python 3.7.9 64-bit (microsoft store)",
   "language": "python",
   "name": "python3"
  },
  "language_info": {
   "codemirror_mode": {
    "name": "ipython",
    "version": 3
   },
   "file_extension": ".py",
   "mimetype": "text/x-python",
   "name": "python",
   "nbconvert_exporter": "python",
   "pygments_lexer": "ipython3",
   "version": "3.7.9"
  },
  "orig_nbformat": 4,
  "vscode": {
   "interpreter": {
    "hash": "784a0799c0dae6dba3c15d23f5950f5cac127d4542c4889e7ad9101ae93f3407"
   }
  }
 },
 "nbformat": 4,
 "nbformat_minor": 2
}
